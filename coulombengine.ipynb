{
 "cells": [
  {
   "cell_type": "code",
   "execution_count": 301,
   "id": "a3fa7b44",
   "metadata": {
    "ExecuteTime": {
     "end_time": "2022-05-28T01:46:07.717934Z",
     "start_time": "2022-05-28T01:46:05.829416Z"
    }
   },
   "outputs": [],
   "source": [
    "import numpy as np\n",
    "import scipy as sp\n",
    "import matplotlib.pyplot as plt"
   ]
  },
  {
   "cell_type": "code",
   "execution_count": 333,
   "id": "bd872c81",
   "metadata": {
    "ExecuteTime": {
     "end_time": "2022-05-28T01:53:25.455158Z",
     "start_time": "2022-05-28T01:53:25.444821Z"
    }
   },
   "outputs": [],
   "source": [
    "class atom:\n",
    "    def __init__(self, name, x, y, charge, dx=0, dy=0):\n",
    "        self.x = x\n",
    "        self.y = y\n",
    "        self.dx = dx #initial velocity x\n",
    "        self.dy = dy #initial velocity y\n",
    "        self.name = name\n",
    "        #assume initial accel = 0\n",
    "        self.xs = {0:self.x}\n",
    "        self.ys = {0:self.y}\n",
    "        self.charge = charge\n",
    "def distance (atom1, atom2):\n",
    "    return ((atom1.x-atom2.x)**2 + (atom1.y-atom2.y)**2)**.5        \n",
    "def force(atom1, atom2): #coulombic force; positive = repulsive, negative = attractive\n",
    "    return atom1.charge*atom2.charge/distance(atom1, atom2) #in CGS units, so coulomb's constant = 1\n",
    "def components(atom1, atom2):  #force exerted on atom1 by atom2\n",
    "    angle = getangle(atom1, atom2)\n",
    "    f = force(atom1, atom2)\n",
    "    fy = f*np.sin(angle)\n",
    "    fx = f*np.cos(angle)\n",
    "    #negative is attractive; so if atom2's coordinate is > atom1's and there is attraction, flip sign\n",
    "    if atom2.y > atom1.y:\n",
    "        fy *= -1\n",
    "    if atom2.x > atom1.x:\n",
    "        fx *= -1\n",
    "    return fx, fy\n",
    "def getangle(atom1, atom2):\n",
    "    dx = atom1.x - atom2.x\n",
    "    dy = atom1.y - atom2.y\n",
    "    return np.arctan(dy/dx)"
   ]
  },
  {
65
   "cell_type": "code",
66
   "execution_count": 341,
67
   "id": "a7c24d90",
68
   "metadata": {
69
    "ExecuteTime": {
70
     "end_time": "2022-05-28T01:55:11.003936Z",
71
     "start_time": "2022-05-28T01:55:10.878568Z"
72
    }
73
   },
74
   "outputs": [],
75
   "source": [
76
    "!mkdir frames"
77
   ]
78
  },
  {
   "cell_type": "code",
   "execution_count": 360,
   "id": "d07af113",
   "metadata": {
    "ExecuteTime": {
     "end_time": "2022-05-28T02:01:26.456798Z",
     "start_time": "2022-05-28T02:01:26.282451Z"
    }
   },
   "outputs": [
    {
     "data": {
      "image/png": "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\n",
      "text/plain": [
       "<Figure size 432x288 with 1 Axes>"
      ]
     },
     "metadata": {
      "needs_background": "light"
     },
     "output_type": "display_data"
    }
   ],
   "source": [
    "#configs\n",
    "timestep = .1\n",
    "numsteps = 25\n",
    "step = 0\n",
    "\n",
    "\n",
    "p = atom(1, 0, 0, 1, 0, 0) #proton at origin, at rest\n",
    "e = atom(2, 1, 1, -1, 0, .25) # electron at 1,1, moving straight up0\n",
    "atoms = [p,e]\n",
    "numatoms = len(atoms)\n",
    "\n",
    "\n",
    "colors = {0: 'green', 1: 'red', 2: 'blue', 3: 'yellow'}\n",
    "for step in range (1, numsteps):\n",
    "    forces = []\n",
    "    for atom1 in atoms: #calculate force on each particle\n",
    "        fx = 0\n",
    "        fy = 0\n",
    "        for atom2 in atoms:\n",
    "            if atom1.name !=atom2.name:\n",
    "                this_fx, this_fy = components(atom1, atom2)\n",
    "                fx += this_fx\n",
    "                fy += this_fy\n",
    "        forces.append([fx, fy])\n",
    "    #print (\"Forces: \", forces)\n",
    "    counter = 0\n",
    "    while counter < numatoms: #move each atom, then apply force to change its motion\n",
    "        thisatom = atoms[counter]\n",
    "        thisforce = forces[counter]\n",
    "        thisatom.x += thisatom.dx*timestep\n",
    "        thisatom.y += thisatom.dy*timestep\n",
    "        #print (f\"New position for {thisatom.name}: {thisatom.x} {thisatom.y}\")\n",
    "        thisatom.xs[step] = thisatom.x\n",
    "        thisatom.ys[step] = thisatom.y\n",
    "        thisatom.dx += thisforce[0]*timestep\n",
    "        thisatom.dy += thisforce[1]*timestep\n",
    "        \n",
    "        color = colors[counter]\n",
    "        if step == 1:\n",
    "            color = 'black'\n",
    "        plt.plot(thisatom.x, thisatom.y, marker = 'o', color = color)\n",
    "        #plt.savefig(f\"frames/frame{step}.png\") \n",
    "        #plt.clf()\n",
    "        counter += 1"
   ]
  },
  {
   "cell_type": "code",
   "execution_count": 361,
   "id": "599337bb",
   "metadata": {
    "ExecuteTime": {
     "end_time": "2022-05-28T02:01:26.913949Z",
     "start_time": "2022-05-28T02:01:26.689821Z"
    }
   },
   "outputs": [
    {
     "data": {
      "image/png": "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\n",
      "text/plain": [
       "<Figure size 432x288 with 1 Axes>"
      ]
     },
     "metadata": {
      "needs_background": "light"
     },
     "output_type": "display_data"
    }
   ],
   "source": [
    "#final state\n",
    "plt.clf()\n",
    "for counter in range (numatoms):\n",
    "    thisatom = atoms[counter]\n",
    "    color = colors[counter]\n",
    "    plt.plot(thisatom.x, thisatom.y, marker = 'o', color = color)"
   ]
  },
  {
   "cell_type": "code",
   "execution_count": null,
   "id": "f9c826eb",
   "metadata": {},
   "outputs": [],
   "source": []
  }
 ],
 "metadata": {
  "kernelspec": {
   "display_name": "Python 3",
   "language": "python",
   "name": "python3"
  },
  "language_info": {
   "codemirror_mode": {
    "name": "ipython",
    "version": 3
   },
   "file_extension": ".py",
   "mimetype": "text/x-python",
   "name": "python",
   "nbconvert_exporter": "python",
   "pygments_lexer": "ipython3",
   "version": "3.8.8"
  },
  "toc": {
   "base_numbering": 1,
   "nav_menu": {},
   "number_sections": true,
   "sideBar": true,
   "skip_h1_title": false,
   "title_cell": "Table of Contents",
   "title_sidebar": "Contents",
   "toc_cell": false,
   "toc_position": {},
   "toc_section_display": true,
   "toc_window_display": false
  }
 },
 "nbformat": 4,
 "nbformat_minor": 5
}
