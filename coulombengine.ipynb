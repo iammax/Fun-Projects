{
 "cells": [
  {
   "cell_type": "code",
   "execution_count": 3,
   "id": "19a20a97",
   "metadata": {
    "ExecuteTime": {
     "end_time": "2022-05-28T00:48:07.413832Z",
     "start_time": "2022-05-28T00:48:07.108502Z"
    }
   },
   "outputs": [],
   "source": [
    "import numpy as np\n",
    "import scipy as sp\n",
    "import pandas as pd"
   ]
  },
  {
   "cell_type": "code",
   "execution_count": 10,
   "id": "5e81cacf",
   "metadata": {
    "ExecuteTime": {
     "end_time": "2022-05-28T00:56:23.759608Z",
     "start_time": "2022-05-28T00:56:23.752745Z"
    }
   },
   "outputs": [],
   "source": [
    "ke = 8.98*10**9 #coulomb's constant"
   ]
  },
  {
   "cell_type": "code",
   "execution_count": 4,
   "id": "51bc8432",
   "metadata": {
    "ExecuteTime": {
     "end_time": "2022-05-28T00:50:27.874390Z",
     "start_time": "2022-05-28T00:50:27.864585Z"
    }
   },
   "outputs": [],
   "source": [
    "class atom:\n",
    "    def __init__(self, x, y, charge):\n",
    "        self.x = x\n",
    "        self.y = y\n",
    "        self.mass = mass"
   ]
  },
  {
   "cell_type": "code",
   "execution_count": 11,
   "id": "5ca48aa0",
   "metadata": {
    "ExecuteTime": {
     "end_time": "2022-05-28T00:57:10.235442Z",
     "start_time": "2022-05-28T00:57:10.228634Z"
    }
   },
   "outputs": [],
   "source": [
    "def distance (atom1, atom2):\n",
    "    return ((atom1.x-atom2.x)**2 + (atom1.y-atom2.y)**2)**.5"
   ]
  },
  {
   "cell_type": "code",
   "execution_count": null,
   "id": "bbf9a6bd",
   "metadata": {},
   "outputs": [],
   "source": [
    "def c_force(atom1, atom2): #coulombic force\n",
    "    f = "
   ]
  },
  {
   "cell_type": "code",
   "execution_count": null,
   "id": "a0f294c7",
   "metadata": {},
   "outputs": [],
   "source": [
    "atom1 = atom(0, 0, "
   ]
  }
 ],
 "metadata": {
  "kernelspec": {
   "display_name": "Python 3",
   "language": "python",
   "name": "python3"
  },
  "language_info": {
   "codemirror_mode": {
    "name": "ipython",
    "version": 3
   },
   "file_extension": ".py",
   "mimetype": "text/x-python",
   "name": "python",
   "nbconvert_exporter": "python",
   "pygments_lexer": "ipython3",
   "version": "3.8.8"
  },
  "toc": {
   "base_numbering": 1,
   "nav_menu": {},
   "number_sections": true,
   "sideBar": true,
   "skip_h1_title": false,
   "title_cell": "Table of Contents",
   "title_sidebar": "Contents",
   "toc_cell": false,
   "toc_position": {},
   "toc_section_display": true,
   "toc_window_display": false
  }
 },
 "nbformat": 4,
 "nbformat_minor": 5
}
