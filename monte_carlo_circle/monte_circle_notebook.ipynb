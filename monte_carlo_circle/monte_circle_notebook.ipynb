{
 "cells": [
  {
   "cell_type": "code",
   "execution_count": null,
   "id": "b7b47451",
   "metadata": {},
   "outputs": [],
   "source": [
    "#Meant to monte-carlo integrate a gaussian\n",
    "from numpy import sqrt\n",
    "import numpy as np\n",
    "from matplotlib import pyplot as plt\n",
    "from random import uniform\n",
    "from tqdm.notebook import tqdm\n",
    "import pylab as pl\n",
    "from IPython import display"
   ]
  },
  {
   "cell_type": "code",
   "execution_count": null,
   "id": "de778aaf",
   "metadata": {},
   "outputs": [],
   "source": [
    "#tweakables\n",
    "leftlim = -1\n",
    "rightlim = 1\n",
    "sample_number = 100\n",
    "box_area = 4 # area of a rectangle around the gaussian with unit height\n",
    "probability = np.pi/box_area"
   ]
  },
  {
   "cell_type": "code",
   "execution_count": null,
   "id": "df2e1074",
   "metadata": {},
   "outputs": [],
   "source": [
    "#Generate points for boundary circle\n",
    "x = np.linspace(leftlim, rightlim, 100000)\n",
    "func = lambda x: sqrt(1-x**2)\n",
    "func2 = lambda x: -1*sqrt(1-x**2)\n",
    "topy = func(x)\n",
    "bottomy = func2(x)\n"
   ]
  },
  {
   "cell_type": "code",
   "execution_count": null,
   "id": "bae699dc",
   "metadata": {},
   "outputs": [],
   "source": [
    "%matplotlib inline\n",
    "counter = 0\n",
    "below = 0\n",
    "above = 0\n",
    "pl.subplot(2, 1, 1)\n",
    "pl.scatter(x, topy, color = 'black')\n",
    "pl.scatter(x, bottomy, color = 'black')\n",
    "while counter < sample_number:\n",
    "    new_x = uniform(leftlim, rightlim)\n",
    "    new_y = uniform(-1, 1)\n",
    "    y_here = func(new_x)\n",
    "    if sqrt(new_x**2 + new_y**2) <= 1:\n",
    "        below += 1\n",
    "        this_color = 'blue'\n",
    "    else:\n",
    "        above += 1\n",
    "        this_color = 'red'\n",
    "    pl.scatter(new_x, new_y, color = this_color, s = 5)\n",
    "    counter += 1\n",
    "    ratio = float(below)/(above+below)\n",
    "    new_pi = ratio*box_area\n",
    "    pl.subplot(2, 1, 1)\n",
    "    pl.gca().set_aspect(\"equal\")\n",
    "    pl.axis('off')\n",
    "    pl.scatter(new_x, new_y, color = this_color, marker = '.', s= 5)\n",
    "    ratio_now =new_pi/np.pi\n",
    "    pl.title('Iters = {2}, Calculated $\\pi$ = {0:.6f}, ratio to real $\\pi$ = {1:.6f}'.format(new_pi, ratio_now, counter))\n",
    "    pl.subplot(2, 1, 2)\n",
    "    pl.scatter(counter, new_pi, color = 'blue', s = 5)\n",
    "    pl.scatter(counter, ratio_now, color = 'red', s = 5)\n",
    "    pl.ylim([0,5])\n",
    "    pl.xlim([0, counter])\n",
    "    pl.title('Blue: calculated $\\pi$. Red: Ratio to real $\\pi$.')\n",
    "    pl.xlabel('Iteration')\n",
    "    display.clear_output(wait=True)\n",
    "    display.display(pl.gcf())"
   ]
  },
  {
   "cell_type": "code",
   "execution_count": null,
   "id": "142cd819",
   "metadata": {},
   "outputs": [],
   "source": []
  }
 ],
 "metadata": {
  "kernelspec": {
   "display_name": "Python 3",
   "language": "python",
   "name": "python3"
  },
  "language_info": {
   "codemirror_mode": {
    "name": "ipython",
    "version": 3
   },
   "file_extension": ".py",
   "mimetype": "text/x-python",
   "name": "python",
   "nbconvert_exporter": "python",
   "pygments_lexer": "ipython3",
   "version": "3.8.8"
  },
  "toc": {
   "base_numbering": 1,
   "nav_menu": {},
   "number_sections": true,
   "sideBar": true,
   "skip_h1_title": false,
   "title_cell": "Table of Contents",
   "title_sidebar": "Contents",
   "toc_cell": false,
   "toc_position": {},
   "toc_section_display": true,
   "toc_window_display": false
  }
 },
 "nbformat": 4,
 "nbformat_minor": 5
}
